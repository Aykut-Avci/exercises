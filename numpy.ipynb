{
 "cells": [
  {
   "cell_type": "markdown",
   "id": "e8ee0713",
   "metadata": {},
   "source": [
    "1. Import the numpy package under the name np"
   ]
  },
  {
   "cell_type": "code",
   "execution_count": 2,
   "id": "49786cd2",
   "metadata": {},
   "outputs": [],
   "source": [
    "import numpy as np"
   ]
  },
  {
   "cell_type": "markdown",
   "id": "0693f0ff",
   "metadata": {},
   "source": [
    "2. Create a null vector of size 10 (★☆☆)"
   ]
  },
  {
   "cell_type": "code",
   "execution_count": 4,
   "id": "f5450ea4",
   "metadata": {},
   "outputs": [
    {
     "data": {
      "text/plain": [
       "array([0., 0., 0., 0., 0., 0., 0., 0., 0., 0.])"
      ]
     },
     "execution_count": 4,
     "metadata": {},
     "output_type": "execute_result"
    }
   ],
   "source": [
    "np.zeros(10)"
   ]
  },
  {
   "cell_type": "markdown",
   "id": "5d93e7d9",
   "metadata": {},
   "source": [
    " Create a null vector of size 10 but the fifth value which is 1 (★☆☆)"
   ]
  },
  {
   "cell_type": "code",
   "execution_count": 106,
   "id": "637fa533",
   "metadata": {},
   "outputs": [
    {
     "data": {
      "text/plain": [
       "array([0., 0., 0., 0., 1., 0., 0., 0., 0., 0.])"
      ]
     },
     "execution_count": 106,
     "metadata": {},
     "output_type": "execute_result"
    }
   ],
   "source": [
    "null = np.zeros(10) \n",
    "null[4] = 1\n",
    "null"
   ]
  },
  {
   "cell_type": "code",
   "execution_count": 13,
   "id": "16b5cf41",
   "metadata": {},
   "outputs": [
    {
     "data": {
      "text/plain": [
       "array([4., 4., 4., 4., 4., 4., 4., 4., 4., 4.])"
      ]
     },
     "execution_count": 13,
     "metadata": {},
     "output_type": "execute_result"
    }
   ],
   "source": [
    "np.array(4)+np.zeros(10)"
   ]
  },
  {
   "cell_type": "markdown",
   "id": "594b6d06",
   "metadata": {},
   "source": [
    "4. Create a vector with values ranging from 10 to 49 (★☆☆)"
   ]
  },
  {
   "cell_type": "code",
   "execution_count": 19,
   "id": "7648a3ef",
   "metadata": {},
   "outputs": [
    {
     "data": {
      "text/plain": [
       "array([10, 11, 12, 13, 14, 15, 16, 17, 18, 19, 20, 21, 22, 23, 24, 25, 26,\n",
       "       27, 28, 29, 30, 31, 32, 33, 34, 35, 36, 37, 38, 39, 40, 41, 42, 43,\n",
       "       44, 45, 46, 47, 48, 49])"
      ]
     },
     "execution_count": 19,
     "metadata": {},
     "output_type": "execute_result"
    }
   ],
   "source": [
    "np.arange(10,50)"
   ]
  },
  {
   "cell_type": "markdown",
   "id": "cf82d121",
   "metadata": {},
   "source": [
    " Create a 3x3 matrix with values ranging from 0 to 8 (★☆☆)"
   ]
  },
  {
   "cell_type": "code",
   "execution_count": 17,
   "id": "dd18c2ca",
   "metadata": {},
   "outputs": [
    {
     "data": {
      "text/plain": [
       "array([[0, 1, 2],\n",
       "       [3, 4, 5],\n",
       "       [6, 7, 8]])"
      ]
     },
     "execution_count": 17,
     "metadata": {},
     "output_type": "execute_result"
    }
   ],
   "source": [
    "np.arange(0,9).reshape(3,3)"
   ]
  },
  {
   "cell_type": "markdown",
   "id": "12822668",
   "metadata": {},
   "source": [
    "Find indices of non-zero elements from [1,2,0,0,4,0] (★☆☆)"
   ]
  },
  {
   "cell_type": "code",
   "execution_count": 20,
   "id": "b0892348",
   "metadata": {},
   "outputs": [
    {
     "data": {
      "text/plain": [
       "(array([0, 1, 4], dtype=int64),)"
      ]
     },
     "execution_count": 20,
     "metadata": {},
     "output_type": "execute_result"
    }
   ],
   "source": [
    "np.nonzero([1,2,0,0,4,0])"
   ]
  },
  {
   "cell_type": "markdown",
   "id": "aab8869f",
   "metadata": {},
   "source": [
    "Create a 3x3 identity matrix (★☆☆)"
   ]
  },
  {
   "cell_type": "code",
   "execution_count": 21,
   "id": "26c05182",
   "metadata": {},
   "outputs": [
    {
     "data": {
      "text/plain": [
       "array([[1., 0., 0.],\n",
       "       [0., 1., 0.],\n",
       "       [0., 0., 1.]])"
      ]
     },
     "execution_count": 21,
     "metadata": {},
     "output_type": "execute_result"
    }
   ],
   "source": [
    "np.identity(3)"
   ]
  },
  {
   "cell_type": "markdown",
   "id": "82019553",
   "metadata": {},
   "source": [
    " Create a 3x3x3 array with random values (★☆☆)"
   ]
  },
  {
   "cell_type": "code",
   "execution_count": 23,
   "id": "891706ec",
   "metadata": {},
   "outputs": [
    {
     "data": {
      "text/plain": [
       "array([[[0.74030248, 0.63543547, 0.39114028],\n",
       "        [0.04126892, 0.2619819 , 0.6501334 ],\n",
       "        [0.69686183, 0.10802117, 0.51055929]],\n",
       "\n",
       "       [[0.70907652, 0.84249624, 0.07102861],\n",
       "        [0.06512449, 0.09067493, 0.95411013],\n",
       "        [0.8704686 , 0.22774422, 0.99707204]],\n",
       "\n",
       "       [[0.35532299, 0.88850346, 0.23148466],\n",
       "        [0.97191063, 0.94731275, 0.95257733],\n",
       "        [0.53137901, 0.85202447, 0.50703689]]])"
      ]
     },
     "execution_count": 23,
     "metadata": {},
     "output_type": "execute_result"
    }
   ],
   "source": [
    "np.random.random((3,3,3))"
   ]
  },
  {
   "cell_type": "markdown",
   "id": "0c5b9485",
   "metadata": {},
   "source": [
    "Create a 10x10 array with random values and find the minimum and maximum values (★☆☆)"
   ]
  },
  {
   "cell_type": "code",
   "execution_count": 28,
   "id": "5d598db9",
   "metadata": {},
   "outputs": [],
   "source": [
    "array = np.random.random((10,10))"
   ]
  },
  {
   "cell_type": "code",
   "execution_count": 31,
   "id": "984cfafd",
   "metadata": {},
   "outputs": [
    {
     "data": {
      "text/plain": [
       "0.0043566583973849715"
      ]
     },
     "execution_count": 31,
     "metadata": {},
     "output_type": "execute_result"
    }
   ],
   "source": [
    "np.min(array)"
   ]
  },
  {
   "cell_type": "code",
   "execution_count": 32,
   "id": "43dd56a8",
   "metadata": {},
   "outputs": [
    {
     "data": {
      "text/plain": [
       "0.9791740094366879"
      ]
     },
     "execution_count": 32,
     "metadata": {},
     "output_type": "execute_result"
    }
   ],
   "source": [
    "np.max(array)"
   ]
  },
  {
   "cell_type": "markdown",
   "id": "d12bb707",
   "metadata": {},
   "source": [
    "10. Create a random vector of size 30 and find the mean value (★☆☆)"
   ]
  },
  {
   "cell_type": "code",
   "execution_count": 34,
   "id": "e3591b6a",
   "metadata": {},
   "outputs": [
    {
     "data": {
      "text/plain": [
       "0.5612428251545024"
      ]
     },
     "execution_count": 34,
     "metadata": {},
     "output_type": "execute_result"
    }
   ],
   "source": [
    "np.mean(np.random.random(30))"
   ]
  },
  {
   "cell_type": "markdown",
   "id": "cc5b7f64",
   "metadata": {},
   "source": [
    "11. Create a 5x5 matrix with values 1,2,3,4 just below the diagonal (★☆☆)"
   ]
  },
  {
   "cell_type": "code",
   "execution_count": 3,
   "id": "d434b03e",
   "metadata": {},
   "outputs": [
    {
     "data": {
      "text/plain": [
       "array([[0, 0, 0, 0, 0],\n",
       "       [1, 0, 0, 0, 0],\n",
       "       [0, 2, 0, 0, 0],\n",
       "       [0, 0, 3, 0, 0],\n",
       "       [0, 0, 0, 4, 0]])"
      ]
     },
     "execution_count": 3,
     "metadata": {},
     "output_type": "execute_result"
    }
   ],
   "source": [
    "np.diag([1,2,3,4],k=-1)"
   ]
  },
  {
   "cell_type": "markdown",
   "id": "e24070e0",
   "metadata": {},
   "source": [
    "12. Normalize a 5x5 random matrix (★☆☆)"
   ]
  },
  {
   "cell_type": "code",
   "execution_count": 119,
   "id": "9503524f",
   "metadata": {},
   "outputs": [],
   "source": [
    "a = np.random.random((5,5))"
   ]
  },
  {
   "cell_type": "code",
   "execution_count": 129,
   "id": "bf71fe55",
   "metadata": {},
   "outputs": [],
   "source": [
    "normalized = (a - np.mean(a))/np.std(a)"
   ]
  },
  {
   "cell_type": "code",
   "execution_count": 130,
   "id": "efae9f2a",
   "metadata": {},
   "outputs": [
    {
     "data": {
      "text/plain": [
       "array([[-0.37365502, -0.79521591, -1.08658395, -0.96251944, -0.24143135],\n",
       "       [-0.46658798,  0.74724174,  0.93145829, -0.79417751, -0.13947069],\n",
       "       [ 0.8033225 ,  0.16974416,  1.79435176, -1.82170213,  0.13705271],\n",
       "       [ 1.2528868 , -0.14130125,  1.53712844, -1.69310949, -0.77367677],\n",
       "       [ 1.14646033,  1.25458826,  0.50378189,  0.3685735 , -1.3571589 ]])"
      ]
     },
     "execution_count": 130,
     "metadata": {},
     "output_type": "execute_result"
    }
   ],
   "source": [
    "normalized"
   ]
  },
  {
   "cell_type": "markdown",
   "id": "aac492a3",
   "metadata": {},
   "source": [
    "13. How to find common values between two arrays? (★☆☆)"
   ]
  },
  {
   "cell_type": "code",
   "execution_count": null,
   "id": "691cb094",
   "metadata": {},
   "outputs": [],
   "source": []
  },
  {
   "cell_type": "code",
   "execution_count": 57,
   "id": "17628583",
   "metadata": {},
   "outputs": [
    {
     "data": {
      "text/plain": [
       "array([[52,  8, 66, 69, 48],\n",
       "       [61, 76, 24, 57, 29],\n",
       "       [ 3,  6, 59, 24, 60],\n",
       "       [27, 53, 25, 50, 31],\n",
       "       [16, 25, 38, 42, 66]])"
      ]
     },
     "execution_count": 57,
     "metadata": {},
     "output_type": "execute_result"
    }
   ],
   "source": [
    "A = np.random.randint(0,80,size=(5,5))\n",
    "A"
   ]
  },
  {
   "cell_type": "code",
   "execution_count": 56,
   "id": "b93fff26",
   "metadata": {},
   "outputs": [
    {
     "data": {
      "text/plain": [
       "array([[34, 34,  5, 66,  1],\n",
       "       [79, 27, 27, 71,  8],\n",
       "       [51, 16, 73, 14, 63],\n",
       "       [28, 37, 44, 68, 18],\n",
       "       [ 2, 21, 59, 14, 18]])"
      ]
     },
     "execution_count": 56,
     "metadata": {},
     "output_type": "execute_result"
    }
   ],
   "source": [
    "B = np.random.randint(0,80,size=(5,5))\n",
    "B"
   ]
  },
  {
   "cell_type": "code",
   "execution_count": 58,
   "id": "b74678fa",
   "metadata": {},
   "outputs": [
    {
     "data": {
      "text/plain": [
       "array([ 8, 16, 27, 59, 66])"
      ]
     },
     "execution_count": 58,
     "metadata": {},
     "output_type": "execute_result"
    }
   ],
   "source": [
    "np.intersect1d(A,B)"
   ]
  },
  {
   "cell_type": "code",
   "execution_count": 61,
   "id": "918183ba",
   "metadata": {},
   "outputs": [
    {
     "data": {
      "text/plain": [
       "array([0.1424617 , 0.22618265, 0.2582109 , 0.29902015, 0.32395626,\n",
       "       0.47322702, 0.61219195, 0.61775574, 0.74139178, 0.94620636])"
      ]
     },
     "execution_count": 61,
     "metadata": {},
     "output_type": "execute_result"
    }
   ],
   "source": [
    "np.sort(np.random.random(10))"
   ]
  },
  {
   "cell_type": "markdown",
   "id": "c8909ca3",
   "metadata": {},
   "source": [
    "15. Create random vector of size 10 and replace the maximum value by 0 (★★☆)"
   ]
  },
  {
   "cell_type": "code",
   "execution_count": 72,
   "id": "7f4e55bb",
   "metadata": {},
   "outputs": [
    {
     "name": "stdout",
     "output_type": "stream",
     "text": [
      "[0.87872176 0.9876178  0.51497196 0.09303341 0.98078738 0.28539211\n",
      " 0.32758902 0.09729763 0.74275663 0.69092084]\n",
      "[0.87872176 0.         0.51497196 0.09303341 0.98078738 0.28539211\n",
      " 0.32758902 0.09729763 0.74275663 0.69092084]\n"
     ]
    }
   ],
   "source": [
    "new_array = np.random.random(10)\n",
    "\n",
    "print(new_array)\n",
    "\n",
    "new_array[np.argmax(new_array)] = 0\n",
    "\n",
    "print(new_array)"
   ]
  },
  {
   "cell_type": "markdown",
   "id": "101edab6",
   "metadata": {},
   "source": [
    "16. Subtract the mean of each row of a matrix (★★☆)"
   ]
  },
  {
   "cell_type": "code",
   "execution_count": 73,
   "id": "8e9b58d9",
   "metadata": {},
   "outputs": [
    {
     "name": "stdout",
     "output_type": "stream",
     "text": [
      "[[0.8656263  0.94117219 0.56698634 0.50529104]\n",
      " [0.01999032 0.55699289 0.15140072 0.18901058]\n",
      " [0.38025271 0.57274112 0.17686689 0.42187384]]\n"
     ]
    }
   ],
   "source": [
    "a = np.random.rand(3, 4)\n",
    "print(a)"
   ]
  },
  {
   "cell_type": "code",
   "execution_count": 75,
   "id": "449c1f2a",
   "metadata": {},
   "outputs": [],
   "source": [
    "b = a - a.mean(axis = 1, keepdims=True)"
   ]
  },
  {
   "cell_type": "code",
   "execution_count": 76,
   "id": "032eec1b",
   "metadata": {},
   "outputs": [
    {
     "data": {
      "text/plain": [
       "array([[ 0.14585733,  0.22140322, -0.15278263, -0.21447793],\n",
       "       [-0.20935831,  0.32764426, -0.07794791, -0.04033805],\n",
       "       [-0.00768093,  0.18480748, -0.21106675,  0.0339402 ]])"
      ]
     },
     "execution_count": 76,
     "metadata": {},
     "output_type": "execute_result"
    }
   ],
   "source": [
    "b"
   ]
  },
  {
   "cell_type": "markdown",
   "id": "9c705e46",
   "metadata": {},
   "source": [
    "17. How to get the n largest values of an array (★★★)"
   ]
  },
  {
   "cell_type": "code",
   "execution_count": 77,
   "id": "b537c665",
   "metadata": {},
   "outputs": [],
   "source": [
    "Z = np.arange(10000)"
   ]
  },
  {
   "cell_type": "code",
   "execution_count": 78,
   "id": "3cafe7a6",
   "metadata": {},
   "outputs": [
    {
     "data": {
      "text/plain": [
       "array([   0,    1,    2, ..., 9997, 9998, 9999])"
      ]
     },
     "execution_count": 78,
     "metadata": {},
     "output_type": "execute_result"
    }
   ],
   "source": [
    "Z"
   ]
  },
  {
   "cell_type": "code",
   "execution_count": 79,
   "id": "d4e4e496",
   "metadata": {},
   "outputs": [],
   "source": [
    "np.random.shuffle(Z)"
   ]
  },
  {
   "cell_type": "code",
   "execution_count": 82,
   "id": "c10d17b4",
   "metadata": {},
   "outputs": [
    {
     "data": {
      "text/plain": [
       "array([7327, 3390, 7018, ..., 4943, 9984, 5420], dtype=int64)"
      ]
     },
     "execution_count": 82,
     "metadata": {},
     "output_type": "execute_result"
    }
   ],
   "source": [
    "np.argsort(Z)"
   ]
  },
  {
   "cell_type": "code",
   "execution_count": 83,
   "id": "3b44ab14",
   "metadata": {},
   "outputs": [
    {
     "data": {
      "text/plain": [
       "array([7327, 3390, 7018, ..., 4943, 9984, 5420], dtype=int64)"
      ]
     },
     "execution_count": 83,
     "metadata": {},
     "output_type": "execute_result"
    }
   ],
   "source": [
    "np.argsort(Z)"
   ]
  },
  {
   "cell_type": "code",
   "execution_count": 86,
   "id": "c5700269",
   "metadata": {},
   "outputs": [
    {
     "data": {
      "text/plain": [
       "array([   0,    1,    2, ..., 9997, 9998, 9999])"
      ]
     },
     "execution_count": 86,
     "metadata": {},
     "output_type": "execute_result"
    }
   ],
   "source": [
    "sorted_array = Z[np.argsort(Z)]\n",
    "sorted_array"
   ]
  },
  {
   "cell_type": "code",
   "execution_count": 87,
   "id": "692454bf",
   "metadata": {},
   "outputs": [
    {
     "data": {
      "text/plain": [
       "array([9995, 9996, 9997, 9998, 9999])"
      ]
     },
     "execution_count": 87,
     "metadata": {},
     "output_type": "execute_result"
    }
   ],
   "source": [
    "sorted_array[-5:]"
   ]
  },
  {
   "cell_type": "markdown",
   "id": "e432684a",
   "metadata": {},
   "source": [
    "18. Create a random 5*3 matrix and replace items that are larger than 4 by their squares ( Example: 6 --> 36)"
   ]
  },
  {
   "cell_type": "code",
   "execution_count": 95,
   "id": "13e76362",
   "metadata": {},
   "outputs": [
    {
     "data": {
      "text/plain": [
       "array([[0, 4, 4],\n",
       "       [6, 8, 1],\n",
       "       [9, 8, 3],\n",
       "       [2, 2, 3],\n",
       "       [3, 4, 0]])"
      ]
     },
     "execution_count": 95,
     "metadata": {},
     "output_type": "execute_result"
    }
   ],
   "source": [
    "c = np.random.randint(0,10,(5,3))\n",
    "\n",
    "c"
   ]
  },
  {
   "cell_type": "code",
   "execution_count": 98,
   "id": "d79a5764",
   "metadata": {},
   "outputs": [],
   "source": [
    "c_new = np.where(c>4,c,c**2)"
   ]
  },
  {
   "cell_type": "code",
   "execution_count": 99,
   "id": "87860f9d",
   "metadata": {},
   "outputs": [
    {
     "data": {
      "text/plain": [
       "array([[ 0, 16, 16],\n",
       "       [ 6,  8,  1],\n",
       "       [ 9,  8,  9],\n",
       "       [ 4,  4,  9],\n",
       "       [ 9, 16,  0]])"
      ]
     },
     "execution_count": 99,
     "metadata": {},
     "output_type": "execute_result"
    }
   ],
   "source": [
    "c_new"
   ]
  },
  {
   "cell_type": "code",
   "execution_count": null,
   "id": "3a836b07",
   "metadata": {},
   "outputs": [],
   "source": []
  }
 ],
 "metadata": {
  "kernelspec": {
   "display_name": "Python 3 (ipykernel)",
   "language": "python",
   "name": "python3"
  },
  "language_info": {
   "codemirror_mode": {
    "name": "ipython",
    "version": 3
   },
   "file_extension": ".py",
   "mimetype": "text/x-python",
   "name": "python",
   "nbconvert_exporter": "python",
   "pygments_lexer": "ipython3",
   "version": "3.9.12"
  },
  "toc": {
   "base_numbering": 1,
   "nav_menu": {},
   "number_sections": true,
   "sideBar": true,
   "skip_h1_title": false,
   "title_cell": "Table of Contents",
   "title_sidebar": "Contents",
   "toc_cell": false,
   "toc_position": {},
   "toc_section_display": true,
   "toc_window_display": false
  }
 },
 "nbformat": 4,
 "nbformat_minor": 5
}
