{
 "cells": [
  {
   "cell_type": "markdown",
   "id": "943d0ef1",
   "metadata": {},
   "source": [
    "## Hypothesis Testing"
   ]
  },
  {
   "cell_type": "markdown",
   "id": "5ea1fac8",
   "metadata": {},
   "source": [
    "### Instructions\n",
    "\n",
    "It is assumed that the mean systolic blood pressure is μ = 120 mm Hg. In the Honolulu Heart Study, a sample of n = 100 people had an average systolic blood pressure of 130.1 mm Hg with a standard deviation of 21.21 mm Hg. Is the group significantly different (with respect to systolic blood pressure!) from the regular population?\n",
    "\n",
    "Set up the hypothesis test.\n",
    "\n",
    "Write down all the steps followed for setting up the test.\n",
    "\n",
    "Calculate the test statistic by hand and also code it in Python. It should be 4.76190. What decision can you make based on this calculated value?"
   ]
  },
  {
   "cell_type": "markdown",
   "id": "8eef3338",
   "metadata": {},
   "source": [
    "### Steps for the test\n",
    "\n",
    "* Null hypothesis Ho\n",
    "* Alternate hypohesis Ha\n",
    "* Critical value\n",
    "* Test Statistic"
   ]
  },
  {
   "cell_type": "markdown",
   "id": "5860303e",
   "metadata": {},
   "source": [
    "T = (X – μ) / [ σ/√(n) ]"
   ]
  },
  {
   "cell_type": "code",
   "execution_count": 11,
   "id": "66959919",
   "metadata": {},
   "outputs": [],
   "source": [
    "from scipy import stats"
   ]
  },
  {
   "cell_type": "code",
   "execution_count": 12,
   "id": "a01258e2",
   "metadata": {},
   "outputs": [],
   "source": [
    "t = (130.1-120)/(21.21/(100)**0.5)"
   ]
  },
  {
   "cell_type": "code",
   "execution_count": 13,
   "id": "95565b9c",
   "metadata": {},
   "outputs": [
    {
     "data": {
      "text/plain": [
       "4.761904761904759"
      ]
     },
     "execution_count": 13,
     "metadata": {},
     "output_type": "execute_result"
    }
   ],
   "source": [
    "t"
   ]
  },
  {
   "cell_type": "code",
   "execution_count": 17,
   "id": "b6377544",
   "metadata": {},
   "outputs": [
    {
     "data": {
      "text/plain": [
       "1.9842169515086827"
      ]
     },
     "execution_count": 17,
     "metadata": {},
     "output_type": "execute_result"
    }
   ],
   "source": [
    "tc=stats.t.ppf(1-(0.05/2),df=99) \n",
    "\n",
    "tc"
   ]
  },
  {
   "cell_type": "markdown",
   "id": "56324727",
   "metadata": {},
   "source": [
    "tc < t, hence we reject the null hypothesis "
   ]
  },
  {
   "cell_type": "code",
   "execution_count": 18,
   "id": "b53ee0f4",
   "metadata": {},
   "outputs": [],
   "source": [
    "# New Machine\t  Old Machine\n",
    "# 42.1\t        42.7\n",
    "# 41\t        43.6\n",
    "# 41.3\t        43.8\n",
    "# 41.8\t        43.3\n",
    "# 42.4\t        42.5\n",
    "# 42.8\t        43.5\n",
    "# 43.2\t        43.1\n",
    "# 42.3\t        41.7\n",
    "# 41.8\t        44\n",
    "# 42.7\t        44.1 -->"
   ]
  },
  {
   "cell_type": "code",
   "execution_count": 20,
   "id": "b0a2aa88",
   "metadata": {},
   "outputs": [],
   "source": [
    "New_Machine = [42.1,41,41.3,41.8,42.4,42.8,43.2,42.3,41.8,42.7]"
   ]
  },
  {
   "cell_type": "code",
   "execution_count": 22,
   "id": "403887b8",
   "metadata": {},
   "outputs": [],
   "source": [
    "Old_Machine = [42.7,43.6,43.8,43.3,42.5,43.5,43.1,41.7,44,44.1]"
   ]
  },
  {
   "cell_type": "code",
   "execution_count": 24,
   "id": "9c2f9802",
   "metadata": {},
   "outputs": [],
   "source": [
    "import numpy as np"
   ]
  },
  {
   "cell_type": "code",
   "execution_count": 27,
   "id": "e2038346",
   "metadata": {},
   "outputs": [
    {
     "data": {
      "text/plain": [
       "42.14"
      ]
     },
     "execution_count": 27,
     "metadata": {},
     "output_type": "execute_result"
    }
   ],
   "source": [
    "sample_new = np.mean(New_Machine)\n",
    "sample_new"
   ]
  },
  {
   "cell_type": "code",
   "execution_count": 28,
   "id": "0c59b9a8",
   "metadata": {},
   "outputs": [],
   "source": [
    "sample_old = np.mean(Old_Machine)"
   ]
  },
  {
   "cell_type": "code",
   "execution_count": 29,
   "id": "ed04cf92",
   "metadata": {},
   "outputs": [
    {
     "data": {
      "text/plain": [
       "43.230000000000004"
      ]
     },
     "execution_count": 29,
     "metadata": {},
     "output_type": "execute_result"
    }
   ],
   "source": [
    "sample_old"
   ]
  },
  {
   "cell_type": "markdown",
   "id": "28505e6b",
   "metadata": {},
   "source": [
    "t= (sample_mean(x1) - sample_mean(x2)) / sqrt(square(s1)/n1 + square(s2)/n2 )"
   ]
  },
  {
   "cell_type": "code",
   "execution_count": null,
   "id": "25cf9a93",
   "metadata": {},
   "outputs": [],
   "source": [
    "t=(sample_new - sample_old)/sqrt(square()"
   ]
  }
 ],
 "metadata": {
  "kernelspec": {
   "display_name": "Python 3 (ipykernel)",
   "language": "python",
   "name": "python3"
  },
  "language_info": {
   "codemirror_mode": {
    "name": "ipython",
    "version": 3
   },
   "file_extension": ".py",
   "mimetype": "text/x-python",
   "name": "python",
   "nbconvert_exporter": "python",
   "pygments_lexer": "ipython3",
   "version": "3.9.12"
  },
  "toc": {
   "base_numbering": 1,
   "nav_menu": {},
   "number_sections": true,
   "sideBar": true,
   "skip_h1_title": false,
   "title_cell": "Table of Contents",
   "title_sidebar": "Contents",
   "toc_cell": false,
   "toc_position": {},
   "toc_section_display": true,
   "toc_window_display": false
  }
 },
 "nbformat": 4,
 "nbformat_minor": 5
}
