{
 "cells": [
  {
   "cell_type": "code",
   "execution_count": 1,
   "id": "b6d7ba14",
   "metadata": {},
   "outputs": [],
   "source": [
    "POWER = {\n",
    "    'Fireball': 50, \n",
    "    'Lightning bolt': 40, \n",
    "    'Magic arrow': 10, \n",
    "    'Black Tentacles': 25, \n",
    "    'Contagion': 45\n",
    "}\n",
    "\n",
    "gandalf = ['Fireball', 'Lightning bolt', 'Lightning bolt', 'Magic arrow', 'Fireball', \n",
    "           'Magic arrow', 'Lightning bolt', 'Fireball', 'Fireball', 'Fireball']\n",
    "saruman = ['Contagion', 'Contagion', 'Black Tentacles', 'Fireball', 'Black Tentacles', \n",
    "           'Lightning bolt', 'Magic arrow', 'Contagion', 'Magic arrow', 'Magic arrow']\n",
    "\n",
    "spells = len(gandalf)"
   ]
  },
  {
   "cell_type": "code",
   "execution_count": 2,
   "id": "336969fd",
   "metadata": {},
   "outputs": [],
   "source": [
    "gandalf_wins = 0\n",
    "\n",
    "saruman_wins = 0"
   ]
  },
  {
   "cell_type": "code",
   "execution_count": 3,
   "id": "14246299",
   "metadata": {},
   "outputs": [],
   "source": [
    "gandalf_power = []\n",
    "\n",
    "saruman_power = []\n",
    "\n",
    "for spell in range(spells):\n",
    "    gandalf_power.append(POWER[gandalf[spell]])\n",
    "    saruman_power.append(POWER[saruman[spell]])\n",
    "    "
   ]
  },
  {
   "cell_type": "code",
   "execution_count": null,
   "id": "6b310495",
   "metadata": {},
   "outputs": [],
   "source": [
    "cons_wins_gandalf = 0\n",
    "cons_wins_saruman = 0\n",
    "\n",
    "\n",
    "\n",
    "while cons_wins_gandalf < 3 or cons_wins_saruman < 3:\n",
    "\n",
    "\n",
    "    for spell in range(spells):\n",
    "\n",
    "        Gandalf_won = False \n",
    "        Saruman_won = False\n",
    "        Tie= True\n",
    "\n",
    "        if Gandalf_won or Tie and gandalf_power[spell] > saruman_power[spell]:\n",
    "\n",
    "            cons_wins_gandalf += 1 \n",
    "            Gandalf_won = True\n",
    "            Tie = False\n",
    "\n",
    "        elif Saruman_won or Tie and saruman_power[spell] < gandalf_power[spell]:\n",
    "            cons_wins_saruman += 1\n",
    "            Saruman_won = True\n",
    "            Tie=False\n",
    "\n",
    "        else:\n",
    "            Tie=True\n",
    "            Gandalf_won=False\n",
    "            Saruman_won=False\n",
    "\n",
    "cons_wins_gandalf \n",
    "cons_wins_saruman\n"
   ]
  },
  {
   "cell_type": "code",
   "execution_count": null,
   "id": "07474c0d",
   "metadata": {},
   "outputs": [],
   "source": [
    "cons_wins_gandalf "
   ]
  },
  {
   "cell_type": "code",
   "execution_count": null,
   "id": "b75d82ab",
   "metadata": {},
   "outputs": [],
   "source": []
  }
 ],
 "metadata": {
  "kernelspec": {
   "display_name": "Python 3 (ipykernel)",
   "language": "python",
   "name": "python3"
  },
  "language_info": {
   "codemirror_mode": {
    "name": "ipython",
    "version": 3
   },
   "file_extension": ".py",
   "mimetype": "text/x-python",
   "name": "python",
   "nbconvert_exporter": "python",
   "pygments_lexer": "ipython3",
   "version": "3.9.12"
  },
  "toc": {
   "base_numbering": 1,
   "nav_menu": {},
   "number_sections": true,
   "sideBar": true,
   "skip_h1_title": false,
   "title_cell": "Table of Contents",
   "title_sidebar": "Contents",
   "toc_cell": false,
   "toc_position": {},
   "toc_section_display": true,
   "toc_window_display": false
  }
 },
 "nbformat": 4,
 "nbformat_minor": 5
}
